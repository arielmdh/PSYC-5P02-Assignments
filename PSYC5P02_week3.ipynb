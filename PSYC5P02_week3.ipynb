{
 "cells": [
  {
   "cell_type": "code",
   "execution_count": 1,
   "id": "d0ef54e4-602a-46d6-8542-cc0f99caa12c",
   "metadata": {},
   "outputs": [
    {
     "name": "stdout",
     "output_type": "stream",
     "text": [
      "hello world\n"
     ]
    }
   ],
   "source": [
    "print('hello world')"
   ]
  },
  {
   "cell_type": "code",
   "execution_count": 2,
   "id": "441a7d42-56f2-4a29-a1ac-7e57eca5faf5",
   "metadata": {},
   "outputs": [
    {
     "data": {
      "text/plain": [
       "2"
      ]
     },
     "execution_count": 2,
     "metadata": {},
     "output_type": "execute_result"
    }
   ],
   "source": [
    "1 + 1"
   ]
  },
  {
   "cell_type": "markdown",
   "id": "40058f15-e4bf-4486-9884-c243a0a5fbd2",
   "metadata": {},
   "source": [
    "1 + 1\n",
    "*this is markdown text*"
   ]
  },
  {
   "cell_type": "markdown",
   "id": "d3db32fc-6cb2-422e-95b4-bab8948c4c80",
   "metadata": {},
   "source": [
    "## Print command stuff"
   ]
  },
  {
   "cell_type": "code",
   "execution_count": 3,
   "id": "a008a72d-0a57-45db-8bed-ece14adc2e6c",
   "metadata": {},
   "outputs": [
    {
     "name": "stdout",
     "output_type": "stream",
     "text": [
      "2\n"
     ]
    }
   ],
   "source": [
    "print(1 + 1)"
   ]
  },
  {
   "cell_type": "code",
   "execution_count": 4,
   "id": "6dd6b274-25e4-479f-b098-eebff1652230",
   "metadata": {},
   "outputs": [
    {
     "name": "stdout",
     "output_type": "stream",
     "text": [
      "1 + 1\n"
     ]
    }
   ],
   "source": [
    "print('1 + 1')"
   ]
  },
  {
   "cell_type": "markdown",
   "id": "ac32d50b-f0ec-4908-af2f-f50ee175858c",
   "metadata": {},
   "source": [
    "### Data types\n",
    "Text type: str (string), denoted by quotes\n",
    "\n",
    "Numeric type: int (integer) or float (floating point, decimals)\n"
   ]
  },
  {
   "cell_type": "markdown",
   "id": "cdd8cb81-bf98-4496-9eb8-f8ac2b98df1d",
   "metadata": {},
   "source": [
    "### Operators\n",
    "arithmetic operations operate on number types: +,-,x,/,% (modulus), ** (exponent), // (floor division)"
   ]
  },
  {
   "cell_type": "markdown",
   "id": "6842e15d-f312-469f-8d05-725286881885",
   "metadata": {},
   "source": [
    "### Functions\n",
    "Elaborate pieces of ocde that take the form of: \n",
    "```name(argument)```\n",
    "Round brackets for functions\n",
    "\n",
    "\n"
   ]
  },
  {
   "cell_type": "code",
   "execution_count": 5,
   "id": "e741fcf1-c21e-4338-877d-322a20593582",
   "metadata": {},
   "outputs": [
    {
     "name": "stdout",
     "output_type": "stream",
     "text": [
      "Help on built-in function print in module builtins:\n",
      "\n",
      "print(*args, sep=' ', end='\\n', file=None, flush=False)\n",
      "    Prints the values to a stream, or to sys.stdout by default.\n",
      "\n",
      "    sep\n",
      "      string inserted between values, default a space.\n",
      "    end\n",
      "      string appended after the last value, default a newline.\n",
      "    file\n",
      "      a file-like object (stream); defaults to the current sys.stdout.\n",
      "    flush\n",
      "      whether to forcibly flush the stream.\n",
      "\n"
     ]
    }
   ],
   "source": [
    "help(print)"
   ]
  },
  {
   "cell_type": "markdown",
   "id": "1a1515ed-ef6a-4583-b84e-5ca926e04a19",
   "metadata": {},
   "source": [
    "First one is manditory argument, the rest of optional"
   ]
  },
  {
   "cell_type": "markdown",
   "id": "8f64860e-4c52-4392-9183-26e3d8f2eb0d",
   "metadata": {},
   "source": [
    "### Variables\n",
    "variables are placeholders for storing data values, declared using the = character"
   ]
  },
  {
   "cell_type": "code",
   "execution_count": 6,
   "id": "be73f84a-de67-4549-ad6d-0fc46b3dc72c",
   "metadata": {},
   "outputs": [],
   "source": [
    "x = 1 + 1\n",
    "text = 'hello world'"
   ]
  },
  {
   "cell_type": "code",
   "execution_count": 7,
   "id": "bb5cda9f-f424-40e7-89d9-3d116f0f275a",
   "metadata": {},
   "outputs": [
    {
     "data": {
      "text/plain": [
       "2"
      ]
     },
     "execution_count": 7,
     "metadata": {},
     "output_type": "execute_result"
    }
   ],
   "source": [
    "x "
   ]
  },
  {
   "cell_type": "code",
   "execution_count": 8,
   "id": "26cb88fe-4258-43d1-a901-9284adb4c4c8",
   "metadata": {},
   "outputs": [
    {
     "data": {
      "text/plain": [
       "'hello world'"
      ]
     },
     "execution_count": 8,
     "metadata": {},
     "output_type": "execute_result"
    }
   ],
   "source": [
    "text"
   ]
  },
  {
   "cell_type": "code",
   "execution_count": 9,
   "id": "bcc02364-9c55-41cf-8cb5-b9a7c6ad4463",
   "metadata": {},
   "outputs": [
    {
     "ename": "SyntaxError",
     "evalue": "invalid syntax (1134473554.py, line 1)",
     "output_type": "error",
     "traceback": [
      "\u001b[1;36m  Cell \u001b[1;32mIn[9], line 1\u001b[1;36m\u001b[0m\n\u001b[1;33m    myVar =\u001b[0m\n\u001b[1;37m           ^\u001b[0m\n\u001b[1;31mSyntaxError\u001b[0m\u001b[1;31m:\u001b[0m invalid syntax\n"
     ]
    }
   ],
   "source": [
    "myVar ="
   ]
  },
  {
   "cell_type": "markdown",
   "id": "f62e6096-4a37-4bfc-9273-81f2429829ae",
   "metadata": {},
   "source": [
    "Cannot assign a blank variable"
   ]
  },
  {
   "cell_type": "markdown",
   "id": "818be950-5e19-4961-bea1-9f8cc68df4df",
   "metadata": {},
   "source": [
    "### Naming variables\n",
    "Rules:\n",
    "* Variables must start with letter or underscore\n",
    "* Can only contain numbers, letter, and underscore\n",
    "* Cannot start with number\n",
    "* case sensitive"
   ]
  },
  {
   "cell_type": "code",
   "execution_count": 11,
   "id": "d8996fc1-4668-42f5-b158-635995d59161",
   "metadata": {},
   "outputs": [],
   "source": [
    "a, b, c = 1, 2, 3\n",
    "x = y = z = 10"
   ]
  },
  {
   "cell_type": "markdown",
   "id": "2d5fbaaa-f6c1-44b2-a8ae-5baac0b616d7",
   "metadata": {},
   "source": [
    "Comma separates\n",
    "\n",
    "Keep track of names, don't want to accidentally override previous"
   ]
  },
  {
   "cell_type": "code",
   "execution_count": 12,
   "id": "df205fcb-9423-4431-afaf-aa6b1efd989d",
   "metadata": {},
   "outputs": [
    {
     "data": {
      "text/plain": [
       "3"
      ]
     },
     "execution_count": 12,
     "metadata": {},
     "output_type": "execute_result"
    }
   ],
   "source": [
    "a + b"
   ]
  },
  {
   "cell_type": "code",
   "execution_count": 13,
   "id": "8b1b292a-a33e-46fd-9d93-29059ad1ef65",
   "metadata": {},
   "outputs": [
    {
     "data": {
      "text/plain": [
       "20"
      ]
     },
     "execution_count": 13,
     "metadata": {},
     "output_type": "execute_result"
    }
   ],
   "source": [
    "x + y"
   ]
  },
  {
   "cell_type": "code",
   "execution_count": 15,
   "id": "2ca15bb7-aa1d-4055-88d9-51b5da6af868",
   "metadata": {},
   "outputs": [
    {
     "ename": "TypeError",
     "evalue": "can only concatenate str (not \"int\") to str",
     "output_type": "error",
     "traceback": [
      "\u001b[1;31m---------------------------------------------------------------------------\u001b[0m",
      "\u001b[1;31mTypeError\u001b[0m                                 Traceback (most recent call last)",
      "Cell \u001b[1;32mIn[15], line 1\u001b[0m\n\u001b[1;32m----> 1\u001b[0m \u001b[38;5;124m'\u001b[39m\u001b[38;5;124mhello\u001b[39m\u001b[38;5;124m'\u001b[39m \u001b[38;5;241m+\u001b[39m x\n",
      "\u001b[1;31mTypeError\u001b[0m: can only concatenate str (not \"int\") to str"
     ]
    }
   ],
   "source": [
    "'hello' + x"
   ]
  },
  {
   "cell_type": "markdown",
   "id": "950df802-f804-4bfc-bbdf-ba4ae299fcd7",
   "metadata": {},
   "source": [
    "Type Error because we are trying to perform operation on two different types"
   ]
  },
  {
   "cell_type": "code",
   "execution_count": 16,
   "id": "cd0849e2-4507-4d56-89ac-4cd0f7c6f301",
   "metadata": {},
   "outputs": [
    {
     "data": {
      "text/plain": [
       "2"
      ]
     },
     "execution_count": 16,
     "metadata": {},
     "output_type": "execute_result"
    }
   ],
   "source": [
    "1 + 1"
   ]
  },
  {
   "cell_type": "code",
   "execution_count": 17,
   "id": "7f8952de-5340-44b1-bd16-186335a953e1",
   "metadata": {},
   "outputs": [
    {
     "data": {
      "text/plain": [
       "'ab'"
      ]
     },
     "execution_count": 17,
     "metadata": {},
     "output_type": "execute_result"
    }
   ],
   "source": [
    "'a' + 'b'"
   ]
  },
  {
   "cell_type": "markdown",
   "id": "993dc9d7-7331-4c95-885b-01da90984d95",
   "metadata": {},
   "source": [
    "Plus sign works on both strings and numbers, but does different things"
   ]
  },
  {
   "cell_type": "code",
   "execution_count": 18,
   "id": "968fc821-aa24-4070-8b18-df6c6cc5df82",
   "metadata": {},
   "outputs": [
    {
     "data": {
      "text/plain": [
       "int"
      ]
     },
     "execution_count": 18,
     "metadata": {},
     "output_type": "execute_result"
    }
   ],
   "source": [
    "type(x)"
   ]
  },
  {
   "cell_type": "markdown",
   "id": "53a491e1-cef5-4972-b6ec-413e20275033",
   "metadata": {},
   "source": [
    "Tells you variable is an integer"
   ]
  },
  {
   "cell_type": "code",
   "execution_count": 19,
   "id": "3043e5ed-d5b9-439c-9022-0d545823f386",
   "metadata": {},
   "outputs": [
    {
     "data": {
      "text/plain": [
       "str"
      ]
     },
     "execution_count": 19,
     "metadata": {},
     "output_type": "execute_result"
    }
   ],
   "source": [
    "x = 'some text' \n",
    "type(x)"
   ]
  },
  {
   "cell_type": "markdown",
   "id": "610c16cf-1484-4c85-a013-e7bbcc9121c5",
   "metadata": {},
   "source": [
    "X can be changed to a string"
   ]
  },
  {
   "cell_type": "markdown",
   "id": "42600552-a9e8-458f-ad7e-c2f9cc25107e",
   "metadata": {},
   "source": [
    "### Errors\n",
    "Pay attention to the message, tells you important information about where it went wrong."
   ]
  },
  {
   "cell_type": "code",
   "execution_count": 20,
   "id": "d0bacfb7-0f9a-4876-81eb-b3e9dc893bf1",
   "metadata": {},
   "outputs": [
    {
     "ename": "SyntaxError",
     "evalue": "invalid syntax (2065419873.py, line 1)",
     "output_type": "error",
     "traceback": [
      "\u001b[1;36m  Cell \u001b[1;32mIn[20], line 1\u001b[1;36m\u001b[0m\n\u001b[1;33m    x = 1 + 1:\u001b[0m\n\u001b[1;37m             ^\u001b[0m\n\u001b[1;31mSyntaxError\u001b[0m\u001b[1;31m:\u001b[0m invalid syntax\n"
     ]
    }
   ],
   "source": [
    "x = 1 + 1:"
   ]
  },
  {
   "cell_type": "markdown",
   "id": "4952ff2b-caff-4407-a03b-3569fecea75b",
   "metadata": {},
   "source": [
    "Shows location of issue"
   ]
  },
  {
   "cell_type": "code",
   "execution_count": 21,
   "id": "eda92995-020e-4533-be4a-d08f568d0183",
   "metadata": {},
   "outputs": [
    {
     "ename": "NameError",
     "evalue": "name 'myVar' is not defined",
     "output_type": "error",
     "traceback": [
      "\u001b[1;31m---------------------------------------------------------------------------\u001b[0m",
      "\u001b[1;31mNameError\u001b[0m                                 Traceback (most recent call last)",
      "Cell \u001b[1;32mIn[21], line 1\u001b[0m\n\u001b[1;32m----> 1\u001b[0m \u001b[38;5;28mprint\u001b[39m(myVar)\n",
      "\u001b[1;31mNameError\u001b[0m: name 'myVar' is not defined"
     ]
    }
   ],
   "source": [
    "print(myVar)"
   ]
  },
  {
   "cell_type": "markdown",
   "id": "6279d5de-610b-4af3-ac0f-70a60ead33e6",
   "metadata": {},
   "source": [
    "Double check names, double check paths, double check typos (doesn't not tell you if there is a typo, as it doesn't know that the file doesn't exist)"
   ]
  },
  {
   "cell_type": "code",
   "execution_count": 23,
   "id": "414a7fdf-37ed-4058-a4ed-62ebc0e7a563",
   "metadata": {},
   "outputs": [
    {
     "ename": "NameError",
     "evalue": "name 'x' is not defined",
     "output_type": "error",
     "traceback": [
      "\u001b[1;31m---------------------------------------------------------------------------\u001b[0m",
      "\u001b[1;31mNameError\u001b[0m                                 Traceback (most recent call last)",
      "Cell \u001b[1;32mIn[23], line 1\u001b[0m\n\u001b[1;32m----> 1\u001b[0m \u001b[38;5;28;01mdel\u001b[39;00m(x)\n\u001b[0;32m      2\u001b[0m \u001b[38;5;28mprint\u001b[39m(x)\n",
      "\u001b[1;31mNameError\u001b[0m: name 'x' is not defined"
     ]
    }
   ],
   "source": [
    "del(x)\n",
    "print(x)"
   ]
  },
  {
   "cell_type": "markdown",
   "id": "62bb01c9-cc33-42af-b0c1-a43618c9aa5f",
   "metadata": {},
   "source": [
    "Error is I tried to print x, but had deleted it first"
   ]
  },
  {
   "cell_type": "code",
   "execution_count": 24,
   "id": "a787e1ee-d2a3-497a-b11d-90f1832c1656",
   "metadata": {},
   "outputs": [
    {
     "data": {
      "text/plain": [
       "'C:\\\\Users\\\\Asus'"
      ]
     },
     "execution_count": 24,
     "metadata": {},
     "output_type": "execute_result"
    }
   ],
   "source": [
    "pwd"
   ]
  },
  {
   "cell_type": "code",
   "execution_count": 26,
   "id": "c97142fb-f1b8-40a4-be72-654935c07885",
   "metadata": {},
   "outputs": [],
   "source": [
    "myInt = 111"
   ]
  },
  {
   "cell_type": "code",
   "execution_count": 27,
   "id": "76f09975-0979-4ce5-b017-f557a5c74bb8",
   "metadata": {},
   "outputs": [
    {
     "ename": "TypeError",
     "evalue": "object of type 'int' has no len()",
     "output_type": "error",
     "traceback": [
      "\u001b[1;31m---------------------------------------------------------------------------\u001b[0m",
      "\u001b[1;31mTypeError\u001b[0m                                 Traceback (most recent call last)",
      "Cell \u001b[1;32mIn[27], line 1\u001b[0m\n\u001b[1;32m----> 1\u001b[0m \u001b[38;5;28mlen\u001b[39m(myInt)\n",
      "\u001b[1;31mTypeError\u001b[0m: object of type 'int' has no len()"
     ]
    }
   ],
   "source": [
    "len(myInt)"
   ]
  },
  {
   "cell_type": "code",
   "execution_count": 29,
   "id": "efe25238-4289-4cf0-9abf-45b7e1603e50",
   "metadata": {},
   "outputs": [
    {
     "data": {
      "text/plain": [
       "3"
      ]
     },
     "execution_count": 29,
     "metadata": {},
     "output_type": "execute_result"
    }
   ],
   "source": [
    "myString = '111'\n",
    "len(myString)"
   ]
  },
  {
   "cell_type": "markdown",
   "id": "e6e52fd8-5090-407b-95e7-0bc4caecdba6",
   "metadata": {},
   "source": [
    "Strings can have lengths, there are multiple elements contained in the string"
   ]
  },
  {
   "cell_type": "code",
   "execution_count": 30,
   "id": "708dd847-ee2b-4a67-9e8d-a4c1fbf8e9aa",
   "metadata": {},
   "outputs": [
    {
     "data": {
      "text/plain": [
       "11"
      ]
     },
     "execution_count": 30,
     "metadata": {},
     "output_type": "execute_result"
    }
   ],
   "source": [
    "newString = 'hello world'\n",
    "len(newString)"
   ]
  },
  {
   "cell_type": "markdown",
   "id": "0c829240-886d-4294-9c3a-cffb37221502",
   "metadata": {},
   "source": [
    "### Indexing\n",
    "Every value in a string has an index. First element in string has index of 0. "
   ]
  },
  {
   "cell_type": "code",
   "execution_count": 31,
   "id": "1768a34e-80bd-41d5-8a33-a6c16dfbfaed",
   "metadata": {},
   "outputs": [
    {
     "data": {
      "text/plain": [
       "'h'"
      ]
     },
     "execution_count": 31,
     "metadata": {},
     "output_type": "execute_result"
    }
   ],
   "source": [
    "newString[0]"
   ]
  },
  {
   "cell_type": "markdown",
   "id": "94081482-79af-41b1-b643-62186ad5dfdc",
   "metadata": {},
   "source": [
    "Everything starts with 0, length is 11, characters are 10"
   ]
  },
  {
   "cell_type": "code",
   "execution_count": 32,
   "id": "eeea4ac3-2989-496f-85a5-fcb3997fb308",
   "metadata": {},
   "outputs": [
    {
     "ename": "SyntaxError",
     "evalue": "invalid syntax (1532155213.py, line 1)",
     "output_type": "error",
     "traceback": [
      "\u001b[1;36m  Cell \u001b[1;32mIn[32], line 1\u001b[1;36m\u001b[0m\n\u001b[1;33m    newString 1:5\u001b[0m\n\u001b[1;37m              ^\u001b[0m\n\u001b[1;31mSyntaxError\u001b[0m\u001b[1;31m:\u001b[0m invalid syntax\n"
     ]
    }
   ],
   "source": [
    "newString 1:5"
   ]
  },
  {
   "cell_type": "code",
   "execution_count": 33,
   "id": "38f27553-33e7-47b5-b52c-ac439f715986",
   "metadata": {},
   "outputs": [
    {
     "data": {
      "text/plain": [
       "'ello'"
      ]
     },
     "execution_count": 33,
     "metadata": {},
     "output_type": "execute_result"
    }
   ],
   "source": [
    "newString[1:5]"
   ]
  },
  {
   "cell_type": "code",
   "execution_count": 34,
   "id": "7ed3b1c3-e886-484f-aac8-89b8ee8545c3",
   "metadata": {},
   "outputs": [
    {
     "data": {
      "text/plain": [
       "'el o'"
      ]
     },
     "execution_count": 34,
     "metadata": {},
     "output_type": "execute_result"
    }
   ],
   "source": [
    "newString[1:9:2]"
   ]
  },
  {
   "cell_type": "markdown",
   "id": "7ac2e634-8940-4c3f-ba4b-8982309d421f",
   "metadata": {},
   "source": [
    "Start at index 1, then take every second value until index 9"
   ]
  },
  {
   "cell_type": "code",
   "execution_count": 35,
   "id": "576bf461-2d21-4b12-84c3-c58ced5054cb",
   "metadata": {},
   "outputs": [
    {
     "data": {
      "text/plain": [
       "'drwo'"
      ]
     },
     "execution_count": 35,
     "metadata": {},
     "output_type": "execute_result"
    }
   ],
   "source": [
    "newString[-1:2:-2]"
   ]
  },
  {
   "cell_type": "markdown",
   "id": "d5cc5c8a-c87f-4fb7-8704-04d1b6f1c1b8",
   "metadata": {},
   "source": [
    "Start at -1 (last letter), go by twos backwards"
   ]
  },
  {
   "cell_type": "code",
   "execution_count": 36,
   "id": "4578f10c-a8d1-4536-a0f1-0db556b64897",
   "metadata": {},
   "outputs": [
    {
     "data": {
      "text/plain": [
       "'hell'"
      ]
     },
     "execution_count": 36,
     "metadata": {},
     "output_type": "execute_result"
    }
   ],
   "source": [
    "newString[0:4]"
   ]
  },
  {
   "cell_type": "markdown",
   "id": "87a36cf3-62b0-46d9-b292-d1f12c027a10",
   "metadata": {},
   "source": [
    "Oopsy"
   ]
  },
  {
   "cell_type": "code",
   "execution_count": 37,
   "id": "e06d9639-d26e-403a-b692-5c2486f92884",
   "metadata": {},
   "outputs": [
    {
     "data": {
      "text/plain": [
       "'hello'"
      ]
     },
     "execution_count": 37,
     "metadata": {},
     "output_type": "execute_result"
    }
   ],
   "source": [
    "newString[0:5]"
   ]
  },
  {
   "cell_type": "code",
   "execution_count": 38,
   "id": "7fc8396a-a77e-403f-a592-d2ba4b16afb7",
   "metadata": {},
   "outputs": [
    {
     "data": {
      "text/plain": [
       "'world'"
      ]
     },
     "execution_count": 38,
     "metadata": {},
     "output_type": "execute_result"
    }
   ],
   "source": [
    "newString[6:11]"
   ]
  },
  {
   "cell_type": "code",
   "execution_count": 39,
   "id": "a617147a-c7ea-4778-abd9-c89cf20c285b",
   "metadata": {},
   "outputs": [
    {
     "data": {
      "text/plain": [
       "'l ol'"
      ]
     },
     "execution_count": 39,
     "metadata": {},
     "output_type": "execute_result"
    }
   ],
   "source": [
    "newString[3:11:2]"
   ]
  },
  {
   "cell_type": "markdown",
   "id": "46f14198-5fe0-4c1e-8fa0-f1592c27c45a",
   "metadata": {},
   "source": [
    "lol"
   ]
  },
  {
   "cell_type": "code",
   "execution_count": 43,
   "id": "349148d0-7d82-4ffd-b79f-3885c3510a44",
   "metadata": {},
   "outputs": [
    {
     "data": {
      "text/plain": [
       "'el ol'"
      ]
     },
     "execution_count": 43,
     "metadata": {},
     "output_type": "execute_result"
    }
   ],
   "source": [
    "newString[1:11:2]"
   ]
  },
  {
   "cell_type": "code",
   "execution_count": 45,
   "id": "69e18f2f-e2ca-4652-81d2-71ce4e46a4fb",
   "metadata": {},
   "outputs": [
    {
     "data": {
      "text/plain": [
       "''"
      ]
     },
     "execution_count": 45,
     "metadata": {},
     "output_type": "execute_result"
    }
   ],
   "source": [
    "newString[0:11:-1]"
   ]
  },
  {
   "cell_type": "code",
   "execution_count": 47,
   "id": "4c239b71-c3e3-4094-b016-e2baaedf7685",
   "metadata": {},
   "outputs": [
    {
     "data": {
      "text/plain": [
       "'dlrow olleh'"
      ]
     },
     "execution_count": 47,
     "metadata": {},
     "output_type": "execute_result"
    }
   ],
   "source": [
    "newString[-1:-12:-1]"
   ]
  },
  {
   "cell_type": "markdown",
   "id": "a060f348-ea64-41f9-9e81-4b4baf3297bd",
   "metadata": {},
   "source": [
    "Ranges are noninclusive, ex. 0-5, 5 is not included. Going backwards, starting at -1, goes to -11. To include the last letter, would need to do -12. Indexs start at 0"
   ]
  },
  {
   "cell_type": "markdown",
   "id": "fd8c4508-ee73-4364-88da-116ba9b9e39e",
   "metadata": {},
   "source": [
    "### Lists\n",
    "Created using square brackets [] \n",
    "\n",
    "``` ex. drinks = [ \"whiskey\", \"vodka\", \"lager\", \"cider\"]```\n",
    "\n",
    "Lists are\n",
    "* Ordered\n",
    "* Changeable"
   ]
  },
  {
   "cell_type": "code",
   "execution_count": 50,
   "id": "b3ce4f25-0fd6-4256-a68c-203a43cc3f01",
   "metadata": {},
   "outputs": [],
   "source": [
    "drinks = [ \"whiskey\", \"vodka\", \"lager\", \"cider\"]"
   ]
  },
  {
   "cell_type": "code",
   "execution_count": 51,
   "id": "cbeef9ec-17d2-41bb-94f6-ff7f6bab5124",
   "metadata": {},
   "outputs": [
    {
     "data": {
      "text/plain": [
       "'vodka'"
      ]
     },
     "execution_count": 51,
     "metadata": {},
     "output_type": "execute_result"
    }
   ],
   "source": [
    "drinks [1]"
   ]
  },
  {
   "cell_type": "code",
   "execution_count": 52,
   "id": "c25196a2-bdfb-43e7-884e-f9b5c64e57d1",
   "metadata": {},
   "outputs": [],
   "source": [
    "drinks[3] = \"tequila\""
   ]
  },
  {
   "cell_type": "code",
   "execution_count": 53,
   "id": "50f70e14-f47b-4d64-be72-74a19fd5e333",
   "metadata": {},
   "outputs": [
    {
     "data": {
      "text/plain": [
       "'tequila'"
      ]
     },
     "execution_count": 53,
     "metadata": {},
     "output_type": "execute_result"
    }
   ],
   "source": [
    "drinks [3]"
   ]
  },
  {
   "cell_type": "code",
   "execution_count": 54,
   "id": "b95f21e3-5c94-4562-8c1f-32e3c9498e08",
   "metadata": {},
   "outputs": [],
   "source": [
    "drinks[1] = 101"
   ]
  },
  {
   "cell_type": "code",
   "execution_count": 56,
   "id": "548e7cdf-2553-4c4c-a924-5f2dcdcf77cc",
   "metadata": {},
   "outputs": [
    {
     "data": {
      "text/plain": [
       "101"
      ]
     },
     "execution_count": 56,
     "metadata": {},
     "output_type": "execute_result"
    }
   ],
   "source": [
    "drinks[1]"
   ]
  },
  {
   "cell_type": "code",
   "execution_count": 58,
   "id": "2467dae5-5e5b-4c06-aa2b-3611fdab082a",
   "metadata": {},
   "outputs": [
    {
     "data": {
      "text/plain": [
       "type[['whiskey', 101, 'lager', 'tequila']]"
      ]
     },
     "execution_count": 58,
     "metadata": {},
     "output_type": "execute_result"
    }
   ],
   "source": [
    "type[drinks]"
   ]
  },
  {
   "cell_type": "code",
   "execution_count": 59,
   "id": "fd2f1212-4cc0-4536-a6f4-412e0c642516",
   "metadata": {},
   "outputs": [
    {
     "data": {
      "text/plain": [
       "list"
      ]
     },
     "execution_count": 59,
     "metadata": {},
     "output_type": "execute_result"
    }
   ],
   "source": [
    "type(drinks)"
   ]
  },
  {
   "cell_type": "code",
   "execution_count": 60,
   "id": "fab6ee30-daec-4a9e-888f-638d7222bda6",
   "metadata": {},
   "outputs": [
    {
     "data": {
      "text/plain": [
       "str"
      ]
     },
     "execution_count": 60,
     "metadata": {},
     "output_type": "execute_result"
    }
   ],
   "source": [
    "type(drinks[0])"
   ]
  },
  {
   "cell_type": "code",
   "execution_count": 62,
   "id": "44eeb32f-3306-4b41-acba-2a83ac19079e",
   "metadata": {},
   "outputs": [
    {
     "name": "stdout",
     "output_type": "stream",
     "text": [
      "whiskey\n"
     ]
    }
   ],
   "source": [
    "shots = drinks[0]\n",
    "print(shots)"
   ]
  },
  {
   "cell_type": "code",
   "execution_count": 63,
   "id": "4214ec30-e155-476d-98f7-3a0c11e18b68",
   "metadata": {},
   "outputs": [
    {
     "data": {
      "text/plain": [
       "['lager', 'tequila']"
      ]
     },
     "execution_count": 63,
     "metadata": {},
     "output_type": "execute_result"
    }
   ],
   "source": [
    "drinks [2:4]"
   ]
  },
  {
   "cell_type": "markdown",
   "id": "f51fc66a-37ef-4784-89ba-9d88007ab66f",
   "metadata": {},
   "source": [
    "Add to list .append"
   ]
  },
  {
   "cell_type": "code",
   "execution_count": 64,
   "id": "684eb5ad-6d0c-404a-8867-6261be787ca6",
   "metadata": {},
   "outputs": [],
   "source": [
    "drinks.append(\"wine\")"
   ]
  },
  {
   "cell_type": "code",
   "execution_count": 65,
   "id": "beb348cd-bb54-453a-afa5-fa9d18a862b6",
   "metadata": {},
   "outputs": [
    {
     "data": {
      "text/plain": [
       "['whiskey', 101, 'lager', 'tequila', 'wine']"
      ]
     },
     "execution_count": 65,
     "metadata": {},
     "output_type": "execute_result"
    }
   ],
   "source": [
    "drinks"
   ]
  },
  {
   "cell_type": "code",
   "execution_count": 66,
   "id": "2c2b0ee1-2155-438e-9b17-47710bd91de6",
   "metadata": {},
   "outputs": [
    {
     "data": {
      "text/plain": [
       "5"
      ]
     },
     "execution_count": 66,
     "metadata": {},
     "output_type": "execute_result"
    }
   ],
   "source": [
    "len(drinks)"
   ]
  },
  {
   "cell_type": "code",
   "execution_count": 67,
   "id": "a93d7a70-d211-46aa-a4ff-39dfcf859512",
   "metadata": {},
   "outputs": [],
   "source": [
    "newDrinks = [\"beer\", \"water\"]"
   ]
  },
  {
   "cell_type": "markdown",
   "id": "880c7cfc-f3b5-4aab-9f7f-4f9c735f5465",
   "metadata": {},
   "source": [
    "\"Append\" : adds the two items as one string"
   ]
  },
  {
   "cell_type": "code",
   "execution_count": 68,
   "id": "775913af-ace4-4fbe-b623-97f42bfb6566",
   "metadata": {},
   "outputs": [],
   "source": [
    "drinks.extend(newDrinks)"
   ]
  },
  {
   "cell_type": "code",
   "execution_count": 69,
   "id": "08a4157c-a294-4a96-8180-083accec0973",
   "metadata": {},
   "outputs": [
    {
     "data": {
      "text/plain": [
       "['whiskey', 101, 'lager', 'tequila', 'wine', 'beer', 'water']"
      ]
     },
     "execution_count": 69,
     "metadata": {},
     "output_type": "execute_result"
    }
   ],
   "source": [
    "drinks"
   ]
  },
  {
   "cell_type": "markdown",
   "id": "5acb677d-3ca2-4565-8269-ebc0a1f7f120",
   "metadata": {},
   "source": [
    "\"Extend\": adds items as separate items"
   ]
  },
  {
   "cell_type": "code",
   "execution_count": 70,
   "id": "fa8c1e13-ed6a-4fd5-afc6-dae50b9ef9c8",
   "metadata": {},
   "outputs": [],
   "source": [
    "drinks.insert(3,\"ice tea\")"
   ]
  },
  {
   "cell_type": "code",
   "execution_count": 71,
   "id": "1817c48c-1c03-417f-a353-e2654ddcf8f4",
   "metadata": {},
   "outputs": [
    {
     "data": {
      "text/plain": [
       "['whiskey', 101, 'lager', 'ice tea', 'tequila', 'wine', 'beer', 'water']"
      ]
     },
     "execution_count": 71,
     "metadata": {},
     "output_type": "execute_result"
    }
   ],
   "source": [
    "drinks"
   ]
  },
  {
   "cell_type": "markdown",
   "id": "8882fb5a-f23e-4f81-8567-c53a4c48b75b",
   "metadata": {},
   "source": [
    "\"Insert\": adds items into specific place in list"
   ]
  },
  {
   "cell_type": "markdown",
   "id": "b6f782c9-cebc-475b-bc27-dbcb76caef0c",
   "metadata": {},
   "source": [
    "### Tuples\n",
    "Tuples are defined with round brackets\n",
    "* Ordered\n",
    "* Unchangeabe\n",
    "\n",
    "### Set\n",
    "Sets are defined with curly brackets\n",
    "* Unordered\n",
    "* Unchangeable\n",
    "* Unindexed\n",
    "* Cannot have repeat values\n",
    "\n",
    "### Dictionary\n",
    "* Ordered\n",
    "* Changeable\n",
    "* Does not allow supplicates (cannot have same thing twice, ex. only 1 value for age)"
   ]
  },
  {
   "cell_type": "markdown",
   "id": "93b4e884-a1e1-4de1-b38d-7f60adc2b8dd",
   "metadata": {},
   "source": [
    "### IF statements\n",
    "If statements to control the flow of a program and perform action. Evaluating booleans (true/false, 0/1).\n",
    "Expressed by operations:\n",
    "* Comparisons: ==, !=, >, <, <=, >=\n",
    "* Logical:\n"
   ]
  },
  {
   "cell_type": "code",
   "execution_count": 72,
   "id": "4226362b-049f-4524-82c4-0ae3d880ddf0",
   "metadata": {},
   "outputs": [],
   "source": [
    "x, y = 1, 2"
   ]
  },
  {
   "cell_type": "code",
   "execution_count": 73,
   "id": "d9da3f24-bd00-4ec3-8f91-bf26d3641656",
   "metadata": {},
   "outputs": [
    {
     "data": {
      "text/plain": [
       "False"
      ]
     },
     "execution_count": 73,
     "metadata": {},
     "output_type": "execute_result"
    }
   ],
   "source": [
    "x == y"
   ]
  },
  {
   "cell_type": "markdown",
   "id": "2d1c133b-ba0a-467e-b95d-f8ecd5456e4a",
   "metadata": {},
   "source": [
    "== : is it equal to?"
   ]
  },
  {
   "cell_type": "code",
   "execution_count": 74,
   "id": "ef22216b-f6cf-40f3-ab2b-5be843124336",
   "metadata": {},
   "outputs": [
    {
     "data": {
      "text/plain": [
       "True"
      ]
     },
     "execution_count": 74,
     "metadata": {},
     "output_type": "execute_result"
    }
   ],
   "source": [
    "x != y"
   ]
  },
  {
   "cell_type": "markdown",
   "id": "f379c5e1-4676-48fc-bca2-3cec27e2d267",
   "metadata": {},
   "source": [
    "!= : is it not equal to?"
   ]
  },
  {
   "cell_type": "markdown",
   "id": "bf69ce6b-8217-4c17-81d7-2632788746c4",
   "metadata": {},
   "source": [
    "Can compare integers and string"
   ]
  },
  {
   "cell_type": "code",
   "execution_count": 75,
   "id": "b8b23727-e5fe-4551-8ce0-7a55cf1912bd",
   "metadata": {},
   "outputs": [
    {
     "data": {
      "text/plain": [
       "False"
      ]
     },
     "execution_count": 75,
     "metadata": {},
     "output_type": "execute_result"
    }
   ],
   "source": [
    "x != y and x > y"
   ]
  },
  {
   "cell_type": "markdown",
   "id": "aaa7f54c-a050-4d84-828e-58aa6e0cd7f2",
   "metadata": {},
   "source": [
    "Both statements have to be true."
   ]
  },
  {
   "cell_type": "code",
   "execution_count": 76,
   "id": "2729937c-cc56-49a7-a561-f4c67f71e17c",
   "metadata": {},
   "outputs": [
    {
     "data": {
      "text/plain": [
       "True"
      ]
     },
     "execution_count": 76,
     "metadata": {},
     "output_type": "execute_result"
    }
   ],
   "source": [
    "x != y or x > y"
   ]
  },
  {
   "cell_type": "markdown",
   "id": "01d3d90b-d9ec-4be0-a02d-846f2172c103",
   "metadata": {},
   "source": [
    "At least one is true."
   ]
  },
  {
   "cell_type": "code",
   "execution_count": 77,
   "id": "ca6f5d4b-e6cb-4a2c-82d6-a730adc72282",
   "metadata": {},
   "outputs": [
    {
     "data": {
      "text/plain": [
       "True"
      ]
     },
     "execution_count": 77,
     "metadata": {},
     "output_type": "execute_result"
    }
   ],
   "source": [
    "x != y and not x > y"
   ]
  },
  {
   "cell_type": "code",
   "execution_count": 78,
   "id": "6e53a9a4-d4b0-4761-88a8-e4f1aae67a49",
   "metadata": {},
   "outputs": [
    {
     "data": {
      "text/plain": [
       "True"
      ]
     },
     "execution_count": 78,
     "metadata": {},
     "output_type": "execute_result"
    }
   ],
   "source": [
    "x != y and bool(1)"
   ]
  },
  {
   "cell_type": "markdown",
   "id": "f50dae46-6149-480d-b0c1-9d834043fed4",
   "metadata": {},
   "source": [
    "Zero is false, everything else is true."
   ]
  },
  {
   "cell_type": "code",
   "execution_count": 79,
   "id": "8ce57857-383d-4fbc-b680-3b5b97ac884b",
   "metadata": {},
   "outputs": [
    {
     "data": {
      "text/plain": [
       "False"
      ]
     },
     "execution_count": 79,
     "metadata": {},
     "output_type": "execute_result"
    }
   ],
   "source": [
    "x != y and bool(0)"
   ]
  },
  {
   "cell_type": "code",
   "execution_count": 81,
   "id": "e4c313c7-f51f-4b27-a376-a7b6f2faf254",
   "metadata": {},
   "outputs": [],
   "source": [
    "z = []"
   ]
  },
  {
   "cell_type": "code",
   "execution_count": 82,
   "id": "9aa55e0d-fd00-4202-a1af-426fbdc3cead",
   "metadata": {},
   "outputs": [
    {
     "data": {
      "text/plain": [
       "False"
      ]
     },
     "execution_count": 82,
     "metadata": {},
     "output_type": "execute_result"
    }
   ],
   "source": [
    "x != y and bool(z)"
   ]
  },
  {
   "cell_type": "markdown",
   "id": "088caea3-d53d-46a5-b3f4-92c3b6e93ba1",
   "metadata": {},
   "source": [
    "Zero or empty variable returns false"
   ]
  },
  {
   "cell_type": "code",
   "execution_count": 83,
   "id": "4ff3629a-8653-4bb4-8f95-78f5027c3d61",
   "metadata": {},
   "outputs": [
    {
     "data": {
      "text/plain": [
       "True"
      ]
     },
     "execution_count": 83,
     "metadata": {},
     "output_type": "execute_result"
    }
   ],
   "source": [
    "x != y and (bool(y) and bool(x))"
   ]
  },
  {
   "cell_type": "markdown",
   "id": "9cb1ddd3-54b4-4dac-ace5-910b0167e2b2",
   "metadata": {},
   "source": [
    "### If statements broken down\n",
    "* Begins with IF\n",
    "* Then a conditional (can be evaluated as True or False)\n",
    "* Ends in \":\"\n",
    "* An indent\n",
    "* A second conditional \"else if\"\n",
    "* What to do if all of the other conditionals return \"false\""
   ]
  },
  {
   "cell_type": "code",
   "execution_count": 84,
   "id": "b93dd983-ff44-4924-b683-5c56986a857a",
   "metadata": {},
   "outputs": [
    {
     "name": "stdout",
     "output_type": "stream",
     "text": [
      "a is greater than b\n"
     ]
    }
   ],
   "source": [
    "a = 200\n",
    "b = 33\n",
    "if b > a:\n",
    "    print(\"b is greater than a\")\n",
    "elif a == b:\n",
    "    print(\"a and b are equal\")\n",
    "else:\n",
    "    print(\"a is greater than b\")"
   ]
  },
  {
   "cell_type": "markdown",
   "id": "4ab4e41e-2a25-433c-8352-db81f2a49fc0",
   "metadata": {},
   "source": [
    "Cannot have anything after the \"else\""
   ]
  },
  {
   "cell_type": "markdown",
   "id": "e9bdd704-fc57-4724-bd31-a496027e11be",
   "metadata": {},
   "source": [
    "### Match and Case\n",
    "Eval different outcomes. Instead of IF use MATCH"
   ]
  },
  {
   "cell_type": "code",
   "execution_count": 85,
   "id": "8dc0599b-0f07-4be0-8508-0f82d5b7b9dc",
   "metadata": {},
   "outputs": [
    {
     "name": "stderr",
     "output_type": "stream",
     "text": [
      "'touch' is not recognized as an internal or external command,\n",
      "operable program or batch file.\n"
     ]
    }
   ],
   "source": [
    "!touch tmp.txt"
   ]
  },
  {
   "cell_type": "markdown",
   "id": "5ce66d74-94c2-4de7-9c0e-d9bcc5f82614",
   "metadata": {},
   "source": [
    "### Class exercise"
   ]
  },
  {
   "cell_type": "code",
   "execution_count": 86,
   "id": "26e1b5e8-428c-458d-9227-6b0db00a254c",
   "metadata": {},
   "outputs": [
    {
     "name": "stdin",
     "output_type": "stream",
     "text": [
      "Enter student name:  Ariel\n"
     ]
    }
   ],
   "source": [
    "name = input (\"Enter student name: \")"
   ]
  },
  {
   "cell_type": "code",
   "execution_count": 87,
   "id": "18fc6538-5e71-4f69-a1fe-ba17ee7a1ed3",
   "metadata": {},
   "outputs": [
    {
     "data": {
      "text/plain": [
       "'Ariel'"
      ]
     },
     "execution_count": 87,
     "metadata": {},
     "output_type": "execute_result"
    }
   ],
   "source": [
    "name"
   ]
  },
  {
   "cell_type": "code",
   "execution_count": 91,
   "id": "d211af76-c1ca-4728-9a50-13a572466679",
   "metadata": {},
   "outputs": [
    {
     "name": "stdin",
     "output_type": "stream",
     "text": [
      "Enter student name:  Mimi\n"
     ]
    },
    {
     "name": "stdout",
     "output_type": "stream",
     "text": [
      "BCN\n"
     ]
    }
   ],
   "source": [
    "name = input (\"Enter student name: \")\n",
    "if name == \"Mimi\":\n",
    "    print(\"BCN\")"
   ]
  },
  {
   "cell_type": "code",
   "execution_count": 96,
   "id": "0465be1d-b464-408b-ae10-4f7480c81c12",
   "metadata": {},
   "outputs": [
    {
     "name": "stdin",
     "output_type": "stream",
     "text": [
      "Enter student name:  Ariel\n"
     ]
    },
    {
     "name": "stdout",
     "output_type": "stream",
     "text": [
      "Your area is: LD\n"
     ]
    }
   ],
   "source": [
    "name = input (\"Enter student name: \") #This line prompts for the user's name\n",
    "if name == \"Mimi\":\n",
    "    area = \"BCN\"\n",
    "else:\n",
    "    nameLen = len(name)\n",
    "    if nameLen <=4:\n",
    "        area = \"SP\"\n",
    "    elif nameLen > 4 and nameLen <=7:\n",
    "        area = \"LD\"\n",
    "    else:\n",
    "        area = \"BCN\"\n",
    "print(\"Your area is: \" + area)"
   ]
  },
  {
   "cell_type": "code",
   "execution_count": null,
   "id": "95849b23-4466-4836-8be8-8ae91ef9a1e5",
   "metadata": {},
   "outputs": [],
   "source": []
  }
 ],
 "metadata": {
  "kernelspec": {
   "display_name": "Python [conda env:base] *",
   "language": "python",
   "name": "conda-base-py"
  },
  "language_info": {
   "codemirror_mode": {
    "name": "ipython",
    "version": 3
   },
   "file_extension": ".py",
   "mimetype": "text/x-python",
   "name": "python",
   "nbconvert_exporter": "python",
   "pygments_lexer": "ipython3",
   "version": "3.13.5"
  }
 },
 "nbformat": 4,
 "nbformat_minor": 5
}
